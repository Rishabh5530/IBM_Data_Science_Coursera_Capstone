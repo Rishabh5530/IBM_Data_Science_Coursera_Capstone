{
 "cells": [
  {
   "cell_type": "markdown",
   "metadata": {},
   "source": [
    "# Neighbourhoods in Toronto"
   ]
  },
  {
   "cell_type": "markdown",
   "metadata": {},
   "source": [
    "Importing required libraries"
   ]
  },
  {
   "cell_type": "code",
   "execution_count": 1,
   "metadata": {},
   "outputs": [],
   "source": [
    "from bs4 import BeautifulSoup\n",
    "import requests\n",
    "import pandas as pd\n",
    "from geopy.geocoders import Nominatim"
   ]
  },
  {
   "cell_type": "markdown",
   "metadata": {},
   "source": [
    "Getting the web page."
   ]
  },
  {
   "cell_type": "code",
   "execution_count": 2,
   "metadata": {},
   "outputs": [],
   "source": [
    "source = requests.get('https://en.wikipedia.org/wiki/List_of_postal_codes_of_Canada:_M').text\n",
    "soup = BeautifulSoup(source,'lxml')"
   ]
  },
  {
   "cell_type": "code",
   "execution_count": 3,
   "metadata": {},
   "outputs": [],
   "source": [
    "#print(soup.prettify())"
   ]
  },
  {
   "cell_type": "markdown",
   "metadata": {},
   "source": [
    "Setting column names"
   ]
  },
  {
   "cell_type": "code",
   "execution_count": 4,
   "metadata": {},
   "outputs": [],
   "source": [
    "table = soup.find('table', class_ = 'wikitable sortable')\n",
    "tabtr = table.find('tr')\n",
    "col=[]\n",
    "for i in tabtr.find_all('th'):\n",
    "    col.append(i.text) \n",
    "col[2] = col[2][0:-1]\n",
    "col[0] = \"PostalCode\""
   ]
  },
  {
   "cell_type": "markdown",
   "metadata": {},
   "source": [
    "Getting the data in form of lists"
   ]
  },
  {
   "cell_type": "code",
   "execution_count": 5,
   "metadata": {},
   "outputs": [],
   "source": [
    "body = table.find('tbody')\n",
    "a=0\n",
    "pc_list = []\n",
    "bor_list = []\n",
    "neb_list = []\n",
    "\n",
    "for i in body.find_all('tr'):\n",
    "    for j in i.find_all('td'):\n",
    "        if (a%3)==0:\n",
    "            #print(a%3,j.text)\n",
    "            pc_list.append(j.text)\n",
    "            a+=1\n",
    "        elif (a%3)==1:\n",
    "            #print(a%3,j.text)\n",
    "            bor_list.append(j.text)\n",
    "            a+=1\n",
    "        elif (a%3)==2:\n",
    "            #print(a%3,j.text)\n",
    "            neb_list.append(j.text[0:-1])\n",
    "            a+=1\n",
    "#print(pc_list)\n",
    "#print(bor_list)\n",
    "#print(neb_list)"
   ]
  },
  {
   "cell_type": "code",
   "execution_count": 6,
   "metadata": {},
   "outputs": [],
   "source": [
    "data = {col[0]:pc_list,col[1]:bor_list,col[2]:neb_list}\n",
    "#data\n",
    "df = pd.DataFrame(data, columns = col)\n",
    "#df"
   ]
  },
  {
   "cell_type": "code",
   "execution_count": 7,
   "metadata": {},
   "outputs": [],
   "source": [
    "df_drop = df.drop(df[df.Borough == \"Not assigned\"].index)\n",
    "#df_drop"
   ]
  },
  {
   "cell_type": "code",
   "execution_count": 8,
   "metadata": {},
   "outputs": [],
   "source": [
    "df_drop.loc[df_drop.Neighbourhood == \"Not assigned\", 'Neighbourhood'] = \"Queen's Park\"\n"
   ]
  },
  {
   "cell_type": "code",
   "execution_count": 9,
   "metadata": {},
   "outputs": [
    {
     "data": {
      "text/plain": [
       "Index(['PostalCode', 'Borough', 'Neighbourhood'], dtype='object')"
      ]
     },
     "execution_count": 9,
     "metadata": {},
     "output_type": "execute_result"
    }
   ],
   "source": [
    "df_drop2 = df_drop\n",
    "df_drop2 = df_drop2.groupby('PostalCode').agg({\"PostalCode\": lambda x:max(x), \"Neighbourhood\": lambda x: set(x), \"Borough\": lambda x:max(x)})\n",
    "df_drop2 = df_drop2[['PostalCode','Borough','Neighbourhood']]\n",
    "df_drop2.columns"
   ]
  },
  {
   "cell_type": "code",
   "execution_count": null,
   "metadata": {},
   "outputs": [],
   "source": []
  },
  {
   "cell_type": "code",
   "execution_count": null,
   "metadata": {},
   "outputs": [],
   "source": []
  },
  {
   "cell_type": "code",
   "execution_count": 10,
   "metadata": {},
   "outputs": [
    {
     "data": {
      "text/plain": [
       "(103, 3)"
      ]
     },
     "execution_count": 10,
     "metadata": {},
     "output_type": "execute_result"
    }
   ],
   "source": [
    "df_lats = pd.read_csv(r'C:\\Users\\Rishab\\Desktop\\Study Subjects\\IBM Data Science\\capstone\\Geospatial_Coordinates.csv')\n",
    "df_lats.shape"
   ]
  },
  {
   "cell_type": "code",
   "execution_count": null,
   "metadata": {},
   "outputs": [],
   "source": []
  },
  {
   "cell_type": "code",
   "execution_count": 11,
   "metadata": {},
   "outputs": [
    {
     "name": "stderr",
     "output_type": "stream",
     "text": [
      "C:\\Users\\Rishab\\Anaconda3\\lib\\site-packages\\ipykernel_launcher.py:1: FutureWarning: 'PostalCode' is both an index level and a column label.\n",
      "Defaulting to column, but this will raise an ambiguity error in a future version\n",
      "  \"\"\"Entry point for launching an IPython kernel.\n"
     ]
    },
    {
     "data": {
      "text/plain": [
       "(103, 3)"
      ]
     },
     "execution_count": 11,
     "metadata": {},
     "output_type": "execute_result"
    }
   ],
   "source": [
    "df_drop2.sort_values(by=['PostalCode'])\n",
    "df_lats.sort_values(by=['PostalCode'])\n",
    "df_lats.shape"
   ]
  },
  {
   "cell_type": "code",
   "execution_count": 12,
   "metadata": {},
   "outputs": [],
   "source": [
    "df_drop2 = df_drop2.reset_index(drop=True)\n",
    "df_drop2['Neighbourhood'] = df_drop2['Neighbourhood'].astype(str)\n",
    "df_list = df_drop2['Neighbourhood']\n",
    "for i in range(0,len(df_list)):\n",
    "    df_list[i] = df_list[i][1:len(df_list[i])-1]"
   ]
  },
  {
   "cell_type": "code",
   "execution_count": 13,
   "metadata": {},
   "outputs": [],
   "source": [
    "df_joined = pd.DataFrame({'PostalCode':df_drop2[\"PostalCode\"],'Borough':df_drop2[\"Borough\"],'Neighbourhood':df_list,'Latitude':df_lats[\"Latitude\"],'Longitude':df_lats[\"Longitude\"]})"
   ]
  },
  {
   "cell_type": "code",
   "execution_count": 14,
   "metadata": {},
   "outputs": [],
   "source": [
    "#df_final = df_joined\n",
    "#df_final['Neighbourhood'] = df_final['Neighbourhood'].astype(str)\n",
    "#print(df_final.Neighbourhood)\n",
    "#type(df_final)"
   ]
  },
  {
   "cell_type": "code",
   "execution_count": 15,
   "metadata": {},
   "outputs": [],
   "source": [
    "#df_list = \n",
    "#print(df_final[\"Neighbourhood\"][0])\n",
    "#df_list[0] = df_list[0][1:len(df_list[0])-1]\n",
    "#print(df_list[0])\n",
    "#for i in range(0,len(df_list)):\n",
    "#    df_list[i] = df_list[i][1:len(df_list[0])-1]\n",
    "#print(df_list[0])"
   ]
  },
  {
   "cell_type": "code",
   "execution_count": 17,
   "metadata": {},
   "outputs": [
    {
     "data": {
      "text/html": [
       "<div>\n",
       "<style scoped>\n",
       "    .dataframe tbody tr th:only-of-type {\n",
       "        vertical-align: middle;\n",
       "    }\n",
       "\n",
       "    .dataframe tbody tr th {\n",
       "        vertical-align: top;\n",
       "    }\n",
       "\n",
       "    .dataframe thead th {\n",
       "        text-align: right;\n",
       "    }\n",
       "</style>\n",
       "<table border=\"1\" class=\"dataframe\">\n",
       "  <thead>\n",
       "    <tr style=\"text-align: right;\">\n",
       "      <th></th>\n",
       "      <th>Borough</th>\n",
       "      <th>Latitude</th>\n",
       "      <th>Longitude</th>\n",
       "      <th>Neighbourhood</th>\n",
       "      <th>PostalCode</th>\n",
       "    </tr>\n",
       "  </thead>\n",
       "  <tbody>\n",
       "    <tr>\n",
       "      <th>0</th>\n",
       "      <td>Scarborough</td>\n",
       "      <td>43.806686</td>\n",
       "      <td>-79.194353</td>\n",
       "      <td>'Rouge', 'Malvern'</td>\n",
       "      <td>M1B</td>\n",
       "    </tr>\n",
       "    <tr>\n",
       "      <th>1</th>\n",
       "      <td>Scarborough</td>\n",
       "      <td>43.784535</td>\n",
       "      <td>-79.160497</td>\n",
       "      <td>'Highland Creek', 'Rouge Hill', 'Port Union'</td>\n",
       "      <td>M1C</td>\n",
       "    </tr>\n",
       "    <tr>\n",
       "      <th>2</th>\n",
       "      <td>Scarborough</td>\n",
       "      <td>43.763573</td>\n",
       "      <td>-79.188711</td>\n",
       "      <td>'Guildwood', 'Morningside', 'West Hill'</td>\n",
       "      <td>M1E</td>\n",
       "    </tr>\n",
       "    <tr>\n",
       "      <th>3</th>\n",
       "      <td>Scarborough</td>\n",
       "      <td>43.770992</td>\n",
       "      <td>-79.216917</td>\n",
       "      <td>'Woburn'</td>\n",
       "      <td>M1G</td>\n",
       "    </tr>\n",
       "    <tr>\n",
       "      <th>4</th>\n",
       "      <td>Scarborough</td>\n",
       "      <td>43.773136</td>\n",
       "      <td>-79.239476</td>\n",
       "      <td>'Cedarbrae'</td>\n",
       "      <td>M1H</td>\n",
       "    </tr>\n",
       "  </tbody>\n",
       "</table>\n",
       "</div>"
      ],
      "text/plain": [
       "       Borough   Latitude  Longitude  \\\n",
       "0  Scarborough  43.806686 -79.194353   \n",
       "1  Scarborough  43.784535 -79.160497   \n",
       "2  Scarborough  43.763573 -79.188711   \n",
       "3  Scarborough  43.770992 -79.216917   \n",
       "4  Scarborough  43.773136 -79.239476   \n",
       "\n",
       "                                  Neighbourhood PostalCode  \n",
       "0                            'Rouge', 'Malvern'        M1B  \n",
       "1  'Highland Creek', 'Rouge Hill', 'Port Union'        M1C  \n",
       "2       'Guildwood', 'Morningside', 'West Hill'        M1E  \n",
       "3                                      'Woburn'        M1G  \n",
       "4                                   'Cedarbrae'        M1H  "
      ]
     },
     "execution_count": 17,
     "metadata": {},
     "output_type": "execute_result"
    }
   ],
   "source": [
    "df_joined[['PostalCode','Borough','Neighbourhood','Latitude','Longitude']]\n",
    "df_joined.head()"
   ]
  },
  {
   "cell_type": "code",
   "execution_count": 24,
   "metadata": {},
   "outputs": [],
   "source": [
    "#x = df_joined[\"Borough\"].str.find(\"Toronto\")\n",
    "df_try = df_joined.where((df_joined[\"Borough\"].str.find(\"Toronto\"))>=0)\n",
    "df_final = df_try.dropna()"
   ]
  },
  {
   "cell_type": "code",
   "execution_count": 25,
   "metadata": {},
   "outputs": [
    {
     "name": "stdout",
     "output_type": "stream",
     "text": [
      "The dataframe has 4 boroughs and 39 neighborhoods.\n"
     ]
    }
   ],
   "source": [
    "print('The dataframe has {} boroughs and {} neighborhoods.'.format(len(df_final['Borough'].unique()),df_final.shape[0]))"
   ]
  },
  {
   "cell_type": "code",
   "execution_count": 29,
   "metadata": {},
   "outputs": [
    {
     "name": "stdout",
     "output_type": "stream",
     "text": [
      "The geograpical coordinate of Toronto City are 43.653963, -79.387207.\n"
     ]
    }
   ],
   "source": [
    "\n",
    "address = 'Toronto, Ontario'\n",
    "\n",
    "geolocator = Nominatim(user_agent=\"ny_explorer\")\n",
    "location = geolocator.geocode(address)\n",
    "latitude = location.latitude\n",
    "longitude = location.longitude\n",
    "print('The geograpical coordinate of Toronto City are {}, {}.'.format(latitude, longitude))"
   ]
  },
  {
   "cell_type": "code",
   "execution_count": 30,
   "metadata": {},
   "outputs": [],
   "source": [
    "import matplotlib.cm as cm\n",
    "import matplotlib.colors as colors\n",
    "from sklearn.cluster import KMeans\n",
    "\n",
    "#!conda install -c conda-forge folium=0.5.0 --yes # uncomment this line if you haven't completed the Foursquare API lab\n",
    "import folium "
   ]
  },
  {
   "cell_type": "code",
   "execution_count": 32,
   "metadata": {},
   "outputs": [
    {
     "data": {
      "text/html": [
       "<div style=\"width:100%;\"><div style=\"position:relative;width:100%;height:0;padding-bottom:60%;\"><iframe src=\"data:text/html;charset=utf-8;base64,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\" style=\"position:absolute;width:100%;height:100%;left:0;top:0;border:none !important;\" allowfullscreen webkitallowfullscreen mozallowfullscreen></iframe></div></div>"
      ],
      "text/plain": [
       "<folium.folium.Map at 0x1817acd0c18>"
      ]
     },
     "execution_count": 32,
     "metadata": {},
     "output_type": "execute_result"
    }
   ],
   "source": [
    "map_toronto = folium.Map(location=[latitude, longitude], zoom_start=10)\n",
    "\n",
    "# add markers to map\n",
    "for lat, lng, borough, neighborhood in zip(df_final['Latitude'], df_final['Longitude'], df_final['Borough'], df_final['Neighbourhood']):\n",
    "    label = '{}, {}'.format(neighborhood, borough)\n",
    "    label = folium.Popup(label, parse_html=True)\n",
    "    folium.CircleMarker(\n",
    "        [lat, lng],\n",
    "        radius=5,\n",
    "        popup=label,\n",
    "        color='green',\n",
    "        fill=True,\n",
    "        fill_color='#3186cc',\n",
    "        fill_opacity=0.7).add_to(map_toronto)  \n",
    "    \n",
    "map_toronto\n",
    "#,parse_html=False"
   ]
  },
  {
   "cell_type": "code",
   "execution_count": 33,
   "metadata": {},
   "outputs": [
    {
     "name": "stdout",
     "output_type": "stream",
     "text": [
      "Your credentails:\n",
      "CLIENT_ID: HSEHOEWSINXPTMIHL0FCVNNVWZEJIWS54SKYWLKHBJM1KE1E\n",
      "CLIENT_SECRET:E1C0YZ3BTGF24QH2RVP5K2YP5UDZEN2PUSH5LE0Z4YI5RMME\n"
     ]
    }
   ],
   "source": [
    "VERSION = '20180605' # Foursquare API version\n",
    "CLIENT_ID = 'HSEHOEWSINXPTMIHL0FCVNNVWZEJIWS54SKYWLKHBJM1KE1E' # your Foursquare ID\n",
    "CLIENT_SECRET = 'E1C0YZ3BTGF24QH2RVP5K2YP5UDZEN2PUSH5LE0Z4YI5RMME' # your Foursquare Secret\n",
    "VERSION = '20180604'\n",
    "LIMIT = 50\n",
    "print('Your credentails:')\n",
    "print('CLIENT_ID: ' + CLIENT_ID)\n",
    "print('CLIENT_SECRET:' + CLIENT_SECRET)"
   ]
  },
  {
   "cell_type": "code",
   "execution_count": 34,
   "metadata": {},
   "outputs": [],
   "source": [
    "from pandas.io.json import json_normalize"
   ]
  },
  {
   "cell_type": "code",
   "execution_count": 35,
   "metadata": {},
   "outputs": [],
   "source": [
    "def getNearbyVenues(names, latitudes, longitudes, radius=500):\n",
    "    \n",
    "    venues_list=[]\n",
    "    for name, lat, lng in zip(names, latitudes, longitudes):\n",
    "        print(name)\n",
    "        # create the API request URL\n",
    "        url = 'https://api.foursquare.com/v2/venues/explore?&client_id={}&client_secret={}&v={}&ll={},{}&radius={}&limit={}'.format(\n",
    "            CLIENT_ID, \n",
    "            CLIENT_SECRET, \n",
    "            VERSION, \n",
    "            lat, \n",
    "            lng, \n",
    "            radius, \n",
    "            LIMIT)\n",
    "            \n",
    "        # make the GET request\n",
    "        results = requests.get(url).json()[\"response\"]['groups'][0]['items']\n",
    "        \n",
    "        # return only relevant information for each nearby venue\n",
    "        venues_list.append([(\n",
    "            name, \n",
    "            lat, \n",
    "            lng, \n",
    "            v['venue']['name'], \n",
    "            v['venue']['location']['lat'], \n",
    "            v['venue']['location']['lng'],  \n",
    "            v['venue']['categories'][0]['name']) for v in results])\n",
    "\n",
    "    nearby_venues = pd.DataFrame([item for venue_list in venues_list for item in venue_list])\n",
    "    nearby_venues.columns = ['Neighborhood', \n",
    "                  'Neighborhood Latitude', \n",
    "                  'Neighborhood Longitude', \n",
    "                  'Venue', \n",
    "                  'Venue Latitude', \n",
    "                  'Venue Longitude', \n",
    "                  'Venue Category']\n",
    "    \n",
    "    return(nearby_venues)"
   ]
  },
  {
   "cell_type": "code",
   "execution_count": 36,
   "metadata": {},
   "outputs": [
    {
     "name": "stdout",
     "output_type": "stream",
     "text": [
      "'The Beaches'\n",
      "'The Danforth West', 'Riverdale'\n",
      "'India Bazaar', 'The Beaches West'\n",
      "'Studio District'\n",
      "'Lawrence Park'\n",
      "'Davisville North'\n",
      "'North Toronto West'\n",
      "'Davisville'\n",
      "'Moore Park', 'Summerhill East'\n",
      "'South Hill', 'Rathnelly', 'Summerhill West', 'Forest Hill SE', 'Deer Park'\n",
      "'Rosedale'\n",
      "'Cabbagetown', 'St. James Town'\n",
      "'Church and Wellesley'\n",
      "'Harbourfront'\n",
      "'Ryerson', 'Garden District'\n",
      "'St. James Town'\n",
      "'Berczy Park'\n",
      "'Central Bay Street'\n",
      "'Adelaide', 'Richmond', 'King'\n",
      "'Union Station', 'Harbourfront East', 'Toronto Islands'\n",
      "'Toronto Dominion Centre', 'Design Exchange'\n",
      "'Commerce Court', 'Victoria Hotel'\n",
      "'Roselawn'\n",
      "'Forest Hill West', 'Forest Hill North'\n",
      "'North Midtown', 'The Annex', 'Yorkville'\n",
      "'University of Toronto', 'Harbord'\n",
      "'Chinatown', 'Grange Park', 'Kensington Market'\n",
      "'South Niagara', 'Railway Lands', 'Bathurst Quay', 'CN Tower', 'King and Spadina', 'Harbourfront West', 'Island airport'\n",
      "'Stn A PO Boxes 25 The Esplanade'\n",
      "'First Canadian Place', 'Underground city'\n",
      "'Christie'\n",
      "'Dufferin', 'Dovercourt Village'\n",
      "'Little Portugal', 'Trinity'\n",
      "'Brockton', 'Exhibition Place', 'Parkdale Village'\n",
      "'The Junction South', 'High Park'\n",
      "'Parkdale', 'Roncesvalles'\n",
      "'Runnymede', 'Swansea'\n",
      "\"Queen's Park\"\n",
      "'Business Reply Mail Processing Centre 969 Eastern'\n"
     ]
    }
   ],
   "source": [
    "toronto_venues = getNearbyVenues(names=df_final['Neighbourhood'],\n",
    "                                   latitudes=df_final['Latitude'],\n",
    "                                   longitudes=df_final['Longitude'])"
   ]
  },
  {
   "cell_type": "code",
   "execution_count": 40,
   "metadata": {},
   "outputs": [
    {
     "name": "stdout",
     "output_type": "stream",
     "text": [
      "(869, 7)\n",
      "There are 191 uniques categories.\n"
     ]
    }
   ],
   "source": [
    "print(toronto_venues.shape)\n",
    "toronto_venues.head()\n",
    "toronto_venues.groupby('Neighborhood').count()\n",
    "print('There are {} uniques categories.'.format(len(toronto_venues['Venue Category'].unique())))"
   ]
  },
  {
   "cell_type": "code",
   "execution_count": null,
   "metadata": {},
   "outputs": [],
   "source": []
  }
 ],
 "metadata": {
  "kernelspec": {
   "display_name": "Python 3",
   "language": "python",
   "name": "python3"
  },
  "language_info": {
   "codemirror_mode": {
    "name": "ipython",
    "version": 3
   },
   "file_extension": ".py",
   "mimetype": "text/x-python",
   "name": "python",
   "nbconvert_exporter": "python",
   "pygments_lexer": "ipython3",
   "version": "3.5.6"
  }
 },
 "nbformat": 4,
 "nbformat_minor": 2
}
