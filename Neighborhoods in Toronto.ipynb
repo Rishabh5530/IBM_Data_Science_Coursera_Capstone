{
 "cells": [
  {
   "cell_type": "markdown",
   "metadata": {},
   "source": [
    "# Neighbourhoods in Toronto"
   ]
  },
  {
   "cell_type": "markdown",
   "metadata": {},
   "source": [
    "Importing required libraries"
   ]
  },
  {
   "cell_type": "code",
   "execution_count": 1,
   "metadata": {},
   "outputs": [],
   "source": [
    "from bs4 import BeautifulSoup\n",
    "import requests\n",
    "import pandas as pd"
   ]
  },
  {
   "cell_type": "markdown",
   "metadata": {},
   "source": [
    "Getting the web page."
   ]
  },
  {
   "cell_type": "code",
   "execution_count": 2,
   "metadata": {},
   "outputs": [],
   "source": [
    "source = requests.get('https://en.wikipedia.org/wiki/List_of_postal_codes_of_Canada:_M').text\n",
    "soup = BeautifulSoup(source,'lxml')"
   ]
  },
  {
   "cell_type": "code",
   "execution_count": null,
   "metadata": {},
   "outputs": [],
   "source": [
    "print(soup.prettify())"
   ]
  },
  {
   "cell_type": "markdown",
   "metadata": {},
   "source": [
    "Setting column names"
   ]
  },
  {
   "cell_type": "code",
   "execution_count": 4,
   "metadata": {},
   "outputs": [],
   "source": [
    "table = soup.find('table', class_ = 'wikitable sortable')\n",
    "tabtr = table.find('tr')\n",
    "col=[]\n",
    "for i in tabtr.find_all('th'):\n",
    "    col.append(i.text) \n",
    "col[2] = col[2][0:-1]\n",
    "col[0] = \"PostalCode\""
   ]
  },
  {
   "cell_type": "markdown",
   "metadata": {},
   "source": [
    "Getting the data in form of lists"
   ]
  },
  {
   "cell_type": "code",
   "execution_count": 5,
   "metadata": {},
   "outputs": [],
   "source": [
    "body = table.find('tbody')\n",
    "a=0\n",
    "pc_list = []\n",
    "bor_list = []\n",
    "neb_list = []\n",
    "\n",
    "for i in body.find_all('tr'):\n",
    "    for j in i.find_all('td'):\n",
    "        if (a%3)==0:\n",
    "            #print(a%3,j.text)\n",
    "            pc_list.append(j.text)\n",
    "            a+=1\n",
    "        elif (a%3)==1:\n",
    "            #print(a%3,j.text)\n",
    "            bor_list.append(j.text)\n",
    "            a+=1\n",
    "        elif (a%3)==2:\n",
    "            #print(a%3,j.text)\n",
    "            neb_list.append(j.text[0:-1])\n",
    "            a+=1\n",
    "#print(pc_list)\n",
    "#print(bor_list)\n",
    "#print(neb_list)"
   ]
  },
  {
   "cell_type": "code",
   "execution_count": 6,
   "metadata": {},
   "outputs": [],
   "source": [
    "data = {col[0]:pc_list,col[1]:bor_list,col[2]:neb_list}\n",
    "#data\n",
    "df = pd.DataFrame(data, columns = col)\n",
    "#df"
   ]
  },
  {
   "cell_type": "code",
   "execution_count": 8,
   "metadata": {},
   "outputs": [],
   "source": [
    "df_drop = df.drop(df[df.Borough == \"Not assigned\"].index)\n",
    "#df_drop"
   ]
  },
  {
   "cell_type": "code",
   "execution_count": 9,
   "metadata": {},
   "outputs": [],
   "source": [
    "df_drop.loc[df_drop.Neighbourhood == \"Not assigned\", 'Neighbourhood'] = \"Queen's Park\"\n",
    "df_drop2 = df_drop"
   ]
  },
  {
   "cell_type": "code",
   "execution_count": 10,
   "metadata": {},
   "outputs": [
    {
     "data": {
      "text/plain": [
       "(103, 2)"
      ]
     },
     "execution_count": 10,
     "metadata": {},
     "output_type": "execute_result"
    }
   ],
   "source": [
    "df_drop2 = df_drop2.groupby('PostalCode').agg({\"Neighbourhood\": lambda x: set(x), \"Borough\": lambda x:max(x)})\n",
    "df_drop2.shape"
   ]
  },
  {
   "cell_type": "code",
   "execution_count": null,
   "metadata": {},
   "outputs": [],
   "source": []
  }
 ],
 "metadata": {
  "kernelspec": {
   "display_name": "Python 3",
   "language": "python",
   "name": "python3"
  },
  "language_info": {
   "codemirror_mode": {
    "name": "ipython",
    "version": 3
   },
   "file_extension": ".py",
   "mimetype": "text/x-python",
   "name": "python",
   "nbconvert_exporter": "python",
   "pygments_lexer": "ipython3",
   "version": "3.5.6"
  }
 },
 "nbformat": 4,
 "nbformat_minor": 2
}
